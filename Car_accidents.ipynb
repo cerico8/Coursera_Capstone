{
 "cells": [
  {
   "cell_type": "markdown",
   "metadata": {},
   "source": [
    "# Introduction"
   ]
  },
  {
   "cell_type": "markdown",
   "metadata": {},
   "source": [
    "Mexico is a country with an important growth in recent years, and this is reflected in the number of cars that circulate daily in the different cities of the Mexican Republic. More than 30 years ago, only those with high economic status were the ones who owned a car. However, due to globalization this has changed. Many vehicles brands have come to the country offering a variety of products within the automotive market. This has also represented that all families want to have their own vehicle to transport themselves, generating an exponential increase in the number of vehicles that circulate daily within Mexican streets and avenues. Having a car, is not only the comfort of transportation, it involves costs inherent to its maintenance and above all the responsibility that you have behind the wheel, since you can suffer accidents and the expenses that they can represent.\n",
    "\n",
    "Until last year, in Mexico it was not mandatory to have auto insurance, most of the vehicle park did not have insurance to protect it against possible accidents. Mexico has hosted an annual average of 384,434 traffic accidents in urban areas during the last five years, according to records from the National Institute of Statistics and Geography (INEGI). Despite this high figure, only 27% of the national vehicle fleet is insured.\n",
    "As of 2019, not having at least social responsibility insurance can represent a fine that ranges from 1,500 to 6,000 pesos in 25 states of the Republic, including Mexico City.\n",
    "\n",
    "The most common accident in the country's cities is a collision with another motor vehicle, with 67%. The other main causes are collision with a fixed object, collision with a motorcycle and collision with a pedestrian. While the annual average of deaths in the last five years is 5,587.\n"
   ]
  },
  {
   "cell_type": "markdown",
   "metadata": {},
   "source": [
    "# Problem"
   ]
  },
  {
   "cell_type": "markdown",
   "metadata": {},
   "source": [
    "The concentration of car accidents in Mexico City and his relation with the main avenues of the city, due to the growth of the vehicle fleet."
   ]
  },
  {
   "cell_type": "markdown",
   "metadata": {},
   "source": [
    "# Data Source"
   ]
  },
  {
   "cell_type": "markdown",
   "metadata": {},
   "source": [
    "To get a history of information, and how accidents in Mexico have changed in the last 10 years, National Institute of Statistics and Geography (INEGI by Spanish initials), provides historical information on car accidents in Mexico from its website. It is necessary to download the information and prepare the data to show the statistics by State.\n",
    "The information by accident area will be used to show the accidents by state, and then we will show different zones of concentration in Mexico City. We will try ti relate this data to Foursquare data, to identify the closest places where accidents occurs.\n",
    "\n",
    "The information also shows the days of the week and times when most accidents occurs, the types of accidents, whether they are injured or fatal.\n"
   ]
  },
  {
   "cell_type": "code",
   "execution_count": 129,
   "metadata": {},
   "outputs": [
    {
     "data": {
      "text/plain": [
       "(8272, 6)"
      ]
     },
     "execution_count": 129,
     "metadata": {},
     "output_type": "execute_result"
    }
   ],
   "source": [
    "import pandas as pd \n",
    "\n",
    "crash_mex = pd.read_csv(\"INEGI.csv\") \n",
    "crash_mex.shape"
   ]
  },
  {
   "cell_type": "code",
   "execution_count": 128,
   "metadata": {},
   "outputs": [
    {
     "data": {
      "text/html": [
       "<div>\n",
       "<style scoped>\n",
       "    .dataframe tbody tr th:only-of-type {\n",
       "        vertical-align: middle;\n",
       "    }\n",
       "\n",
       "    .dataframe tbody tr th {\n",
       "        vertical-align: top;\n",
       "    }\n",
       "\n",
       "    .dataframe thead th {\n",
       "        text-align: right;\n",
       "    }\n",
       "</style>\n",
       "<table border=\"1\" class=\"dataframe\">\n",
       "  <thead>\n",
       "    <tr style=\"text-align: right;\">\n",
       "      <th></th>\n",
       "      <th>Type</th>\n",
       "      <th>Code</th>\n",
       "      <th>Subcode</th>\n",
       "      <th>Zone</th>\n",
       "      <th>Year</th>\n",
       "      <th>Accidents</th>\n",
       "    </tr>\n",
       "  </thead>\n",
       "  <tbody>\n",
       "    <tr>\n",
       "      <th>0</th>\n",
       "      <td>Fatal</td>\n",
       "      <td>1</td>\n",
       "      <td>NaN</td>\n",
       "      <td>Aguascalientes</td>\n",
       "      <td>2008</td>\n",
       "      <td>68.0</td>\n",
       "    </tr>\n",
       "    <tr>\n",
       "      <th>1</th>\n",
       "      <td>No fatal</td>\n",
       "      <td>1</td>\n",
       "      <td>NaN</td>\n",
       "      <td>Aguascalientes</td>\n",
       "      <td>2008</td>\n",
       "      <td>1750.0</td>\n",
       "    </tr>\n",
       "    <tr>\n",
       "      <th>2</th>\n",
       "      <td>No event</td>\n",
       "      <td>1</td>\n",
       "      <td>NaN</td>\n",
       "      <td>Aguascalientes</td>\n",
       "      <td>2008</td>\n",
       "      <td>NaN</td>\n",
       "    </tr>\n",
       "    <tr>\n",
       "      <th>3</th>\n",
       "      <td>Solo daños</td>\n",
       "      <td>1</td>\n",
       "      <td>NaN</td>\n",
       "      <td>Aguascalientes</td>\n",
       "      <td>2008</td>\n",
       "      <td>3850.0</td>\n",
       "    </tr>\n",
       "    <tr>\n",
       "      <th>4</th>\n",
       "      <td>Total</td>\n",
       "      <td>1</td>\n",
       "      <td>NaN</td>\n",
       "      <td>Aguascalientes</td>\n",
       "      <td>2008</td>\n",
       "      <td>5668.0</td>\n",
       "    </tr>\n",
       "  </tbody>\n",
       "</table>\n",
       "</div>"
      ],
      "text/plain": [
       "         Type Code  Subcode            Zone  Year  Accidents\n",
       "0       Fatal    1      NaN  Aguascalientes  2008       68.0\n",
       "1    No fatal    1      NaN  Aguascalientes  2008     1750.0\n",
       "2    No event    1      NaN  Aguascalientes  2008        NaN\n",
       "3  Solo daños    1      NaN  Aguascalientes  2008     3850.0\n",
       "4       Total    1      NaN  Aguascalientes  2008     5668.0"
      ]
     },
     "execution_count": 128,
     "metadata": {},
     "output_type": "execute_result"
    }
   ],
   "source": [
    "crash_mex.head()"
   ]
  },
  {
   "cell_type": "markdown",
   "metadata": {},
   "source": [
    "For example the next graphic shows the Total accidents reported in Mexico City in the last 10 years:"
   ]
  },
  {
   "cell_type": "code",
   "execution_count": 127,
   "metadata": {},
   "outputs": [
    {
     "name": "stdout",
     "output_type": "stream",
     "text": [
      "Matplotlib version:  3.1.1\n"
     ]
    },
    {
     "data": {
      "text/html": [
       "<div>\n",
       "<style scoped>\n",
       "    .dataframe tbody tr th:only-of-type {\n",
       "        vertical-align: middle;\n",
       "    }\n",
       "\n",
       "    .dataframe tbody tr th {\n",
       "        vertical-align: top;\n",
       "    }\n",
       "\n",
       "    .dataframe thead th {\n",
       "        text-align: right;\n",
       "    }\n",
       "</style>\n",
       "<table border=\"1\" class=\"dataframe\">\n",
       "  <thead>\n",
       "    <tr style=\"text-align: right;\">\n",
       "      <th></th>\n",
       "      <th>Zone</th>\n",
       "      <th>Year</th>\n",
       "      <th>Accidents</th>\n",
       "    </tr>\n",
       "  </thead>\n",
       "  <tbody>\n",
       "    <tr>\n",
       "      <th>41</th>\n",
       "      <td>Ciudad de México</td>\n",
       "      <td>2008</td>\n",
       "      <td>14438.0</td>\n",
       "    </tr>\n",
       "    <tr>\n",
       "      <th>793</th>\n",
       "      <td>Ciudad de México</td>\n",
       "      <td>2009</td>\n",
       "      <td>13398.0</td>\n",
       "    </tr>\n",
       "    <tr>\n",
       "      <th>1545</th>\n",
       "      <td>Ciudad de México</td>\n",
       "      <td>2010</td>\n",
       "      <td>14729.0</td>\n",
       "    </tr>\n",
       "    <tr>\n",
       "      <th>2297</th>\n",
       "      <td>Ciudad de México</td>\n",
       "      <td>2011</td>\n",
       "      <td>16466.0</td>\n",
       "    </tr>\n",
       "    <tr>\n",
       "      <th>3049</th>\n",
       "      <td>Ciudad de México</td>\n",
       "      <td>2012</td>\n",
       "      <td>17120.0</td>\n",
       "    </tr>\n",
       "    <tr>\n",
       "      <th>3801</th>\n",
       "      <td>Ciudad de México</td>\n",
       "      <td>2013</td>\n",
       "      <td>15742.0</td>\n",
       "    </tr>\n",
       "    <tr>\n",
       "      <th>4553</th>\n",
       "      <td>Ciudad de México</td>\n",
       "      <td>2014</td>\n",
       "      <td>14319.0</td>\n",
       "    </tr>\n",
       "    <tr>\n",
       "      <th>5305</th>\n",
       "      <td>Ciudad de México</td>\n",
       "      <td>2015</td>\n",
       "      <td>12337.0</td>\n",
       "    </tr>\n",
       "    <tr>\n",
       "      <th>6057</th>\n",
       "      <td>Ciudad de México</td>\n",
       "      <td>2016</td>\n",
       "      <td>11449.0</td>\n",
       "    </tr>\n",
       "    <tr>\n",
       "      <th>6809</th>\n",
       "      <td>Ciudad de México</td>\n",
       "      <td>2017</td>\n",
       "      <td>12321.0</td>\n",
       "    </tr>\n",
       "    <tr>\n",
       "      <th>7561</th>\n",
       "      <td>Ciudad de México</td>\n",
       "      <td>2018</td>\n",
       "      <td>11656.0</td>\n",
       "    </tr>\n",
       "  </tbody>\n",
       "</table>\n",
       "</div>"
      ],
      "text/plain": [
       "                  Zone  Year  Accidents\n",
       "41    Ciudad de México  2008    14438.0\n",
       "793   Ciudad de México  2009    13398.0\n",
       "1545  Ciudad de México  2010    14729.0\n",
       "2297  Ciudad de México  2011    16466.0\n",
       "3049  Ciudad de México  2012    17120.0\n",
       "3801  Ciudad de México  2013    15742.0\n",
       "4553  Ciudad de México  2014    14319.0\n",
       "5305  Ciudad de México  2015    12337.0\n",
       "6057  Ciudad de México  2016    11449.0\n",
       "6809  Ciudad de México  2017    12321.0\n",
       "7561  Ciudad de México  2018    11656.0"
      ]
     },
     "execution_count": 127,
     "metadata": {},
     "output_type": "execute_result"
    }
   ],
   "source": [
    "%matplotlib inline\n",
    "\n",
    "import matplotlib as mpl\n",
    "import matplotlib.pyplot as plt\n",
    "\n",
    "mpl.style.use('ggplot') # optional: for ggplot-like style\n",
    "\n",
    "# check for latest version of Matplotlib\n",
    "print('Matplotlib version: ', mpl.__version__) # >= 2.0.0\n",
    "\n",
    "df = crash_mex.copy()\n",
    "cdmx_aux = df[df['Code'] == \"9\"]\n",
    "cdmx = cdmx_aux[cdmx_aux['Type'] == \"Total\"]\n",
    "df_tot = cdmx.drop(['Type', 'Code', 'Subcode'], axis=1)\n",
    "df_tot\n"
   ]
  },
  {
   "cell_type": "code",
   "execution_count": 126,
   "metadata": {},
   "outputs": [
    {
     "data": {
      "image/png": "[encoded data removed]",
      "text/plain": [
       "<Figure size 720x432 with 1 Axes>"
      ]
     },
     "metadata": {},
     "output_type": "display_data"
    }
   ],
   "source": [
    "df_tot.plot(kind='line', x='Year', y='Accidents', figsize=(10, 6), color='darkblue')\n",
    "\n",
    "plt.title('Total Car Accidents in Mexico City Last 10 years')\n",
    "plt.xlabel('Year')\n",
    "plt.ylabel('Number of Accidents')\n",
    "\n",
    "plt.show()"
   ]
  },
  {
   "cell_type": "markdown",
   "metadata": {},
   "source": [
    "For the relation for all the Zones in Mexico City with Foursquare, we need the Latitude and Longitude of this zones. In the next Table we can get the information:\n"
   ]
  },
  {
   "cell_type": "markdown",
   "metadata": {},
   "source": [
    "# Metodology"
   ]
  },
  {
   "cell_type": "markdown",
   "metadata": {},
   "source": [
    "# Results"
   ]
  },
  {
   "cell_type": "markdown",
   "metadata": {},
   "source": [
    "# Conclusion"
   ]
  },
  {
   "cell_type": "code",
   "execution_count": null,
   "metadata": {},
   "outputs": [],
   "source": []
  }
 ],
 "metadata": {
  "kernelspec": {
   "display_name": "Python",
   "language": "python",
   "name": "conda-env-python-py"
  },
  "language_info": {
   "codemirror_mode": {
    "name": "ipython",
    "version": 3
   },
   "file_extension": ".py",
   "mimetype": "text/x-python",
   "name": "python",
   "nbconvert_exporter": "python",
   "pygments_lexer": "ipython3",
   "version": "3.6.10"
  }
 },
 "nbformat": 4,
 "nbformat_minor": 4
}
